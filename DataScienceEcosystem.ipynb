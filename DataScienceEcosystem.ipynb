{
 "cells": [
  {
   "cell_type": "markdown",
   "id": "b27bfc3e",
   "metadata": {},
   "source": [
    "Data Science Tools and Ecosystem "
   ]
  },
  {
   "cell_type": "markdown",
   "id": "3a0ed6dc",
   "metadata": {},
   "source": [
    "En este cuadrerno haremos un breve resumen sobre herramientas y ecosistemas de ciencia de datos"
   ]
  },
  {
   "cell_type": "markdown",
   "id": "9ff0f075",
   "metadata": {},
   "source": [
    "**Objetivos:**\n",
    "\n",
    "- Lista de los lenguajes más populares  para DS\n",
    "- Librerias populares para DS \n",
    "- Herramientos para DS \n",
    "- operaciones aritmeticas en Python\n",
    "- ejemplos"
   ]
  },
  {
   "cell_type": "markdown",
   "id": "758f0026",
   "metadata": {},
   "source": [
    "Algunos lengueajes de programación populares para la ciencia de datros son:\n",
    "\n",
    "1. Python  \n",
    "2. R  \n",
    "3. SQL  \n",
    "4. Julia  \n",
    "5. Scala\n",
    "\n"
   ]
  },
  {
   "cell_type": "markdown",
   "id": "6833c531",
   "metadata": {},
   "source": [
    "Algunas librerias comunes son:\n",
    "\n",
    "1. Numpy\n",
    "2. Pandas\n",
    "3. Matplotlib"
   ]
  },
  {
   "cell_type": "markdown",
   "id": "05736729",
   "metadata": {},
   "source": [
    "| herramientras ciencia de datos       |\n",
    "|--------------------------|\n",
    "| Jupyter Notebook         |\n",
    "| RStudio                  |\n",
    "| VS Code                  |\n"
   ]
  },
  {
   "cell_type": "markdown",
   "id": "a9b7dcdf",
   "metadata": {},
   "source": [
    "Algunos ejemplos aritmeticos en python\n",
    "\n",
    "1. 6+8\n",
    "2. 1/2\n",
    "3. 6*3"
   ]
  },
  {
   "cell_type": "code",
   "execution_count": 1,
   "id": "1b46e79e",
   "metadata": {},
   "outputs": [
    {
     "data": {
      "text/plain": [
       "17"
      ]
     },
     "execution_count": 1,
     "metadata": {},
     "output_type": "execute_result"
    }
   ],
   "source": [
    "(3*4)+5"
   ]
  },
  {
   "cell_type": "markdown",
   "id": "5d1d2f36",
   "metadata": {},
   "source": [
    "Este es un breve ejemplo de una expresión aritmetica la cual tiene una multiplicación y una suma "
   ]
  },
  {
   "cell_type": "markdown",
   "id": "035e6095",
   "metadata": {},
   "source": [
    "Ahora convertiremos minutos en horas"
   ]
  },
  {
   "cell_type": "code",
   "execution_count": 2,
   "id": "7c6764b9",
   "metadata": {},
   "outputs": [
    {
     "data": {
      "text/plain": [
       "3.3333333333333335"
      ]
     },
     "execution_count": 2,
     "metadata": {},
     "output_type": "execute_result"
    }
   ],
   "source": [
    "200/60"
   ]
  },
  {
   "cell_type": "markdown",
   "id": "a5783239",
   "metadata": {},
   "source": [
    "## Autor\n",
    "\n",
    "Daniel Felipe Olarte Rojas"
   ]
  }
 ],
 "metadata": {
  "kernelspec": {
   "display_name": "Python 3",
   "language": "python",
   "name": "python3"
  },
  "language_info": {
   "codemirror_mode": {
    "name": "ipython",
    "version": 3
   },
   "file_extension": ".py",
   "mimetype": "text/x-python",
   "name": "python",
   "nbconvert_exporter": "python",
   "pygments_lexer": "ipython3",
   "version": "3.13.5"
  }
 },
 "nbformat": 4,
 "nbformat_minor": 5
}
